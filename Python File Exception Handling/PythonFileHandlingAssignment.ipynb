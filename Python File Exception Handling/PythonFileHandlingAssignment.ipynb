{
 "cells": [
  {
   "cell_type": "markdown",
   "id": "ce480d5c-ee0d-4022-83d3-5fe435b130bf",
   "metadata": {},
   "source": [
    "Files, exceptional handling, logging and memory management Questions:-"
   ]
  },
  {
   "cell_type": "markdown",
   "id": "9aca857e-0324-4ccd-902b-d85dc3198e8a",
   "metadata": {},
   "source": [
    "1-What is the difference between interpreted and compiled languages?\n",
    "  -> Interpreted Languages:In interpreted languages, the source code is executed line by line by an interpreter at runtime. There is no                                    separate compilation phase, the code is interpreted on the fly.Interpreted languages typically have slower                                     execution times since the translation happens during runtime, which introduces overhead.Examples are Python,                                    JavaScript, Ruby, PHP.It provide easier and faster development cycle because there's no need to compile.                                       Immediate feedback for debugging and testing.It has slower execution time.The program depends on the interpreter                                being available.\n",
    "     Compiled Languages:In compiled languages, the entire source code is translated into machine code (or bytecode) by a compiler before                                execution. This means that the program is first compiled into an executable file (like .exe, .out, etc.), and then it                           is run.Since the translation happens ahead of time and the program is already in machine code, compiled languages                              generally run faster during execution.Examples are C, C++, Rust, Go.It has aster execution because code is pre-                                 translated.Programs can run independently of the source code (once compiled).It has longer development cycle because                            you need to compile every time after making changes.Debugging can be harder because of the lack of immediate feedback."
   ]
  },
  {
   "cell_type": "markdown",
   "id": "4a3f8643-43c6-41f5-9d8c-7cd3e7a4ba7e",
   "metadata": {},
   "source": [
    "2-What is exception handling in Python?\n",
    "  ->Exception handling in Python is a mechanism that allows a program to handle runtime errors or exceptional conditions (such as division       by zero, invalid input, file not found, etc.) gracefully. Instead of crashing when an error occurs, Python lets you catch and handle         these exceptions, enabling the program to continue running or to terminate cleanly.\n",
    "    Key Components of Exception Handling in Python:\n",
    "    1-try block: The code that might raise an exception is placed inside the try block. If an exception occurs, Python will jump to the                       corresponding except block.\n",
    "    2-except block: This block catches the exception raised in the try block and allows you to handle it, either by displaying an error                           message, logging it, or taking corrective action.\n",
    "    3-else block (optional): If no exceptions occur in the try block, the else block will execute. It is useful for code that should only                                 run when no exception was raised.\n",
    "    4-finally block (optional): This block will always execute, regardless of whether an exception was raised or not. It's typically used                                    for cleanup actions, such as closing files or releasing resources."
   ]
  },
  {
   "cell_type": "markdown",
   "id": "1b34e5bb-d28c-4885-b758-7c0bb4c8dc95",
   "metadata": {},
   "source": [
    "3- What is the purpose of the finally block in exception handling?\n",
    "   ->The finally block in Python's exception handling serves a crucial purpose: it allows you to define code that always executes,                regardless of whether an exception was raised or not in the try block. It's typically used to release resources, close files, or             perform other cleanup tasks.Helps ensure resources are properly cleaned up, even if errors occur."
   ]
  },
  {
   "cell_type": "markdown",
   "id": "9fa7b942-9aa8-4bf0-a364-1de754638eb9",
   "metadata": {},
   "source": [
    "4- What is logging in Python?\n",
    "  -> Logging in Python refers to the practice of recording log messages, which help in tracking the execution of a program, identifying           issues, debugging, and monitoring the performance. The built-in logging module in Python provides a flexible framework for generating        logs of different severity levels.The logging module defines several logging levels that specify the severity of the messages being          logged. The levels are, from least to most severe:\n",
    "     1-DEBUG: Detailed information, useful for diagnosing problems. Typically only enabled during development.\n",
    "     2-INFO: General information about the program's execution (e.g., startup, completion).\n",
    "     3-WARNING: Indicates something unexpected, but the program can still function correctly.\n",
    "     4-ERROR: An issue that affects the program's operation, but the program can still continue running.\n",
    "     5-CRITICAL: A very serious issue, typically causing the program to stop."
   ]
  },
  {
   "cell_type": "markdown",
   "id": "6d25e126-ed49-4301-a8e1-6edf946a9a4c",
   "metadata": {},
   "source": [
    "5-What is the significance of the __del__ method in Python?\n",
    "  ->The __del__ method in Python is a special method known as a destructor. It is automatically called when an object is about to be             destroyed (i.e., when it is garbage collected). The primary purpose of the __del__ method is to clean up resources that the object may       have acquired during its lifetime, such as closing files, network connections, or releasing memory that is no longer needed.\n",
    "    Syntax:- class MyClass:\n",
    "                    def __del__(self):\n",
    "                        print(\"Destructor called: Object is being destroyed.\")\n"
   ]
  },
  {
   "cell_type": "markdown",
   "id": "31c2955c-e8aa-4013-bd9b-e9cd806319fc",
   "metadata": {},
   "source": [
    "6-What is the difference between import and from ... import in Python?\n",
    "  ->import Statement:The import statement is used to import an entire module into your code. Once a module is imported, you can access its                        functions, classes, and variables using the module's name as a prefix.The module is imported as a whole into the                             current namespace.Not allowed for specific functions or variables.\n",
    "    Syntax:-  import module_name\n",
    "    from ... import Statement:The from ... import statement is used to import specific functions, classes, or variables directly from a                                    module. This allows you to use them without the module name prefix.Only the specified names are imported,                                    directly accessible.Allowed, e.g., from module_name import * to import everything.\n",
    "    Syntax:-  from module_name import name1, name2, ..."
   ]
  },
  {
   "cell_type": "markdown",
   "id": "0b5572f9-839b-4bcc-bcbf-bd6dea77725b",
   "metadata": {},
   "source": [
    "7- How can you handle multiple exceptions in Python?\n",
    "  ->In Python, multiple exceptions can be handled in various ways to ensure that your program can gracefully recover from errors, or at          least provide meaningful feedback to the user. There are several approaches to handle multiple exceptions, depending on the nature of        the exceptions and the desired behavior of your program.\n",
    "    1. Using Multiple except Blocks:You can use multiple except blocks to handle different exceptions separately. This allows you to handle                                      different types of exceptions in specific ways.\n",
    "    2. Using a Single except Block for Multiple Exceptions:If you want to handle multiple exceptions in the same way, you can specify them                                                              as a tuple in a single except block.\n",
    "    3. Using else with Exception Handling:The else block can be used after all the except blocks to run code that should only execute if no                                            exception was raised in the try block.\n",
    "    4. Using finally for Cleanup:The finally block is used to define cleanup actions that must be performed, regardless of whether an                                         exception occurred or not."
   ]
  },
  {
   "cell_type": "markdown",
   "id": "151a2d22-8e85-49ce-8491-267ef8e33970",
   "metadata": {},
   "source": [
    "8-What is the purpose of the with statement when handling files in Python?\n",
    "  ->The with statement in Python is used to handle resources, such as files, in a way that ensures they are properly acquired and released.      It simplifies the process of managing resources by ensuring that cleanup actions (such as closing a file) are always executed, even if       an exception occurs during the operation. The primary purpose of using the with statement when working with files is to automatically        close the file when the block of code inside the with statement is done executing, without needing to explicitly call close()."
   ]
  },
  {
   "cell_type": "markdown",
   "id": "6f5429f5-93c7-4c8c-9617-55ed56e3324f",
   "metadata": {},
   "source": [
    "9- What is the difference between multithreading and multiprocessing?\n",
    "  ->Multithreading, involves the concurrent execution of multiple threads within a single process. Threads share the same memory space and        resources, making it lightweight and efficient for tasks that require shared data or frequent communication between them. However,           because threads share memory, they are constrained by the Global Interpreter Lock (GIL) in Python (which we’ll discuss below), limiting      true parallel execution on multiple CPU cores in a CPU-bound scenario.\n",
    "    Multiprocessing, on the other hand, involves the concurrent execution of multiple processes. Each process runs in its own memory space       and has its own Python interpreter, making multiprocessing capable of achieving true parallelism. This allows Python programs to fully       utilize multiple CPU cores for CPU-bound tasks, where computation is intensive."
   ]
  },
  {
   "cell_type": "markdown",
   "id": "198b67ba-c3b2-42d6-ad7d-bcf322f74649",
   "metadata": {},
   "source": [
    "10- What are the advantages of using logging in a program?\n",
    "   ->Using logging in a program provides several advantages over traditional print statements for tracking events and debugging. Logging is       a more powerful and flexible method for capturing information about a program's execution, errors, and status, and it offers features        that are crucial for long-term maintainability, debugging, and monitoring of production applications.\n",
    "     Key Advantages of Using Logging:\n",
    "     1-Better control over output\n",
    "     2-Persistence and logging to files\n",
    "     3-Easy to disable or redirect logs\n",
    "     4-Easy to disable or redirect logs\n",
    "     5-Tracking and Debugging\n",
    "     6-Thread-Safety and Multiprocessing Support\n",
    "     7-Integration with Exception Handling"
   ]
  },
  {
   "cell_type": "markdown",
   "id": "500e71fa-09a6-4846-9018-3da27adb6318",
   "metadata": {},
   "source": [
    "11- What is memory management in Python?\n",
    "   ->Memory management in Python refers to the process of efficiently allocating, utilizing, and deallocating memory during the execution of      a Python program. It ensures that the program uses memory effectively, preventing memory leaks and optimizing the overall performance.       Python provides automatic memory management mechanisms, so developers typically don’t need to manually manage memory as they would in        lower-level languages like C or C++.Key Components of Memory Management in Python are Memory Allocation,Reference Counting,Garbage           Collection,Memory Pools,Memory Fragmentation,etc"
   ]
  },
  {
   "cell_type": "markdown",
   "id": "a3700dac-ed6d-4c9a-8ddb-3599428e2a72",
   "metadata": {},
   "source": [
    "12-What are the basic steps involved in exception handling in Python?\n",
    "   -> The basic steps involved in exception handling are:\n",
    "        1. Try Block:The try block contains the code that might raise an exception. This is the portion of code where Python will attempt to                      execute the statements. If an exception occurs, the code inside the except block will be executed, and the flow of                           control will be transferred there.\n",
    "        2. Except Block:The except block catches and handles exceptions that occur in the try block. You can specify the type of exception                           you want to catch (e.g., ZeroDivisionError, ValueError), and the associated code will run if that exception is                               raised. You can also catch any exception with a general except clause or catch multiple exceptions.\n",
    "        3. Else Block (Optional):The else block is executed only if no exception occurs in the try block. This block is typically used to                                     execute code that should only run if the try block was successful (i.e., no exceptions were raised).\n",
    "        4. Finally Block (Optional):The finally block is always executed, no matter whether an exception was raised or not. It is used for                                       cleanup actions that must be performed regardless of whether the program runs successfully or an                                             exception occurs. This is typically used to release resources like file handles or network connections.\n",
    "        5-Raising Exceptions (Optional):Sometimes, you may want to raise an exception explicitly, either when a specific condition is met or                                         when you need to signal that something went wrong. This is done using the raise keyword."
   ]
  },
  {
   "cell_type": "markdown",
   "id": "6209bd9e-d014-4f81-b5c4-b49dbbb04eaf",
   "metadata": {},
   "source": [
    "13-Why is memory management important in Python?\n",
    "   ->Memory management is crucial in any programming language, including Python, because it directly affects the performance, efficiency,         and stability of applications. Python, like other high-level programming languages, uses automated memory management to handle memory        allocation, object creation, and deallocation.\n",
    "      the key reasons why memory management is important in Python:\n",
    "      1-Efficient Resource Utilization\n",
    "      2-Performance Optimization\n",
    "      3-Avoiding Memory Leaks\n",
    "      4- Memory Fragmentation\n",
    "      5-Garbage Collection and Circular References"
   ]
  },
  {
   "cell_type": "markdown",
   "id": "78ff2906-e9f1-4e76-ad44-13e466d15bc6",
   "metadata": {},
   "source": [
    "14- What is the role of try and except in exception handling?\n",
    "   ->Role of try and except in Exception Handling are:-\n",
    "     1. try Block:The try block contains the code that you suspect might raise an exception. The Python interpreter will attempt to execute                    the code inside the try block.If no exception occurs during the execution of the try block, the program continues with the                   next lines of code after the try block. If an exception occurs, the program will immediately transfer control to the                         corresponding except block.\n",
    "     2.except Block:The except block is used to catch and handle exceptions that occur in the try block. It defines the actions that should                      be taken when a specific exception is raised.If an exception is raised in the try block, Python will stop executing the                      rest of the code in the try block and jump to the corresponding except block. If the except block matches the exception                      type, it handles the exception; otherwise, the exception will propagate up to higher levels of the program.You can catch                     multiple types of exceptions using multiple except clauses, or catch all exceptions using a general except clause."
   ]
  },
  {
   "cell_type": "markdown",
   "id": "13da2d2b-2104-4167-bc2d-b09c7f677f3d",
   "metadata": {},
   "source": [
    "15- How does Python's garbage collection system work?\n",
    "    -> Python's garbage collection system is responsible for automatically managing memory by reclaiming unused memory and cleaning up              objects that are no longer referenced. This helps prevent memory leaks and optimizes resource usage, allowing Python programs to run         efficiently without requiring manual memory management.\n",
    "       The Garbage Collector Works in Python:\n",
    "       1-Cycle Detection: The garbage collector can detect and clean up circular references (where objects reference each other in a cycle).                            Without garbage collection, these cycles would persist even if the objects are no longer accessible from the rest                           of the program.\n",
    "       2-Thresholds:The garbage collection system uses thresholds to decide when to perform a collection. These thresholds determine how                          many object allocations and deallocations must occur before a collection is triggered.You can manually adjust the                           thresholds using the gc module if needed to optimize collection behavior for your program’s needs.\n",
    "       3-Manual Control of Garbage Collection: Python’s garbage collector is automatic, but developers can control its behavior through the                                                 gc module.\n",
    "       4-Finalization with __del__:The __del__ method is a special method in Python that is called when an object is about to be destroyed.                                     It’s sometimes used to clean up resources such as closing files or network connections.However, __del__                                      and garbage collection do not always work perfectly together, especially in cases where circular                                             references are involved. Python’s garbage collector may not always call __del__ if an object is involved                                     in a cycle."
   ]
  },
  {
   "cell_type": "markdown",
   "id": "5c306bde-224b-4a26-9082-3d3a36d46d3f",
   "metadata": {},
   "source": [
    "16- What is the purpose of the else block in exception handling?\n",
    "   -> Purpose of the else Block in Exception Handling:\n",
    "     1-Execute Code When No Exceptions Occur: The main purpose of the else block is to allow code to run only when the try block does not           raise an exception. If the code in the try block runs successfully (without raising any exceptions), the code in the else block is           executed.\n",
    "     2-Keeps Normal Execution Separate from Error Handling: The else block helps in separating normal execution flow from the error handling        flow. This makes the code cleaner, more readable, and easier to maintain because you can clearly distinguish between the actions             taken when no errors occur and the actions taken when an error is caught.       \n",
    "     3-Avoids Unnecessary Error Handling: By placing the code that should run only when there are no errors in the else block, you avoid            having to include that code in the try block itself, where it might be mixed with exception-handling logic. This makes it easier to          manage."
   ]
  },
  {
   "cell_type": "markdown",
   "id": "94afb79b-8b65-41e0-a12e-b8e5376d41cd",
   "metadata": {},
   "source": [
    "17- What are the common logging levels in Python?\n",
    "   ->The common logging levels in Python are:-\n",
    "     1-DEBUG:Used for detailed information, typically useful only for diagnosing problems. These messages contain low-level information                   that helps during development and debugging.Examples are Logging variable values, function entry/exit points, or execution                   flow.\n",
    "     2-INFO:Used to confirm that things are working as expected. These messages give general information about the program's progress, such              as major milestones or processes that have been completed successfully.Example are Reporting on system startup, configuration                loading, or successful operation of a task.\n",
    "     3-WARNING:Used to indicate that something unexpected happened or that there may be potential problems in the future, but the program is               still functioning as expected.Example are Deprecated features, minor performance issues, or potential issues that aren't                     immediately critical.\n",
    "     4-ERROR:Used to indicate that an error occurred, typically an issue that caused part of the program to fail. The program may still                   continue running, but something went wrong.Example are Logging exceptions, file read/write errors, or failed API calls.\n",
    "     5-CRITICAL: Used to indicate a very serious error that may cause the program to terminate or may result in critical failure. This level                  is typically reserved for fatal issues that need immediate attention.Example are Critical system failures, memory                            exhaustion, or other issues that require urgent action."
   ]
  },
  {
   "cell_type": "markdown",
   "id": "7b6d7048-ea2f-4ebb-9e9a-c218854eb72c",
   "metadata": {},
   "source": [
    "18-What is the difference between os.fork() and multiprocessing in Python?\n",
    "   -> os.fork():-os.fork() is a low-level function in the os module that creates a child process by duplicating the calling (parent)                          process. After calling fork(), both the parent and the child processes continue to execute the same program from the point                   of the fork() call, but they have separate memory spaces.The function creates a new child process and returns the process                    ID (PID) of the child to the parent, and 0 to the child process.It’s important to note that fork() only works on Unix-like                   operating systems (Linux, macOS) and not on Windows. On Windows, the fork() function is unavailable.It’s mostly used in                      low-level system programming, such as forking server processes or creating a simple child process.\n",
    "      multiprocessing Module:-The multiprocessing module is a higher-level Python module that provides a way to create and manage separate                                 processes with more flexibility than os.fork(). It provides features for inter-process communication (IPC),                                  synchronization, and managing processes.The multiprocessing module abstracts the low-level process creation by                               offering a more Pythonic interface, allowing you to spawn processes, share data between processes, and                                       synchronize them.It is cross-platform and works on both Unix-like systems and Windows. On Windows,                                           multiprocessing uses the spawn() method (not fork()) to create child processes, which ensures compatibility.\n",
    "                              The multiprocessing module includes several useful classes such as Process, Queue, Pipe, Lock, etc., to                                      facilitate process management and communication.Ideal for parallel processing and tasks that require higher-                                 level features like process pooling, inter-process communication, and synchronization mechanisms."
   ]
  },
  {
   "cell_type": "markdown",
   "id": "46f64b5f-afda-4369-a7dd-ce2bee7cffea",
   "metadata": {},
   "source": [
    "19- What is the importance of closing a file in Python?\n",
    "    -> Closing a file in Python is an essential practice for managing resources efficiently and ensuring that the file is properly saved and        released after it has been used.closing a file is important because it releases system resources,flushes pending changes to                  disk,Prevents Data Corruption,Enables File Locking,Avoids File Handle Exhaustion and  Cleaner Code and Debugging."
   ]
  },
  {
   "cell_type": "markdown",
   "id": "bc1ea9af-44a6-4469-9337-6a5e5dd92b59",
   "metadata": {},
   "source": [
    "20- What is the difference between file.read() and file.readline() in Python?\n",
    "  ->file.read():-Reads the Entire File, file.read() reads the entire content of the file as a single string. It continues reading from the                    current file pointer until the end of the file is reached.It returns the entire content of the file as a string, including                   newline characters (\\n) for each line in the file.Use file.read() when you want to load the entire file content into memory                  at once.\n",
    "    file.readline():-Reads One Line at a Time, file.readline() reads one line at a time from the current file pointer. Each call to                               file.readline() reads the next line in the file and stops at the newline character.It returns a single line from the                         file, including the newline character at the end of the line (if present). Use file.readline() when you need to process                      the file line by line, which can be more memory-efficient if you're working with large files."
   ]
  },
  {
   "cell_type": "markdown",
   "id": "8d4763a2-f6d8-43e5-a61f-3d0930cb9966",
   "metadata": {},
   "source": [
    "21- What is the logging module in Python used for?\n",
    "   ->The logging module in Python is used for tracking events and activities within a program, such as errors, warnings, or informational         messages. It provides a flexible framework for logging messages at various levels of severity (e.g., debug, info, warning, error,            critical). Logging helps developers monitor the behavior of their applications, troubleshoot issues, and maintain a record of important      events.the main purposes and benefits of using the logging module in Python are Tracking Program Behavior,Error Reporting,Creating           Debugging Information,Centralized Monitoring,Configurable Logging Output and Level-Based Logging."
   ]
  },
  {
   "cell_type": "markdown",
   "id": "89324212-41d9-449f-86f8-d71751e8cccc",
   "metadata": {},
   "source": [
    "22-What is the os module in Python used for in file handling?\n",
    "   ->The os module in Python is a standard library that provides a way of interacting with the operating system. In the context of file           handling, the os module offers a variety of functions that allow you to interact with the file system, manipulate files and                  directories, and perform tasks related to file management. The module provides tools to work with file paths, directories, file              permissions, and more.the key functions in the os module that are commonly used for file handling in Python are os.rename(),os.remove()\n",
    "     os.rmdir(),os.mkdir(),etc."
   ]
  },
  {
   "cell_type": "markdown",
   "id": "a50e9572-be48-40d9-b267-d97c52afe4a5",
   "metadata": {},
   "source": [
    "23- What are the challenges associated with memory management in Python?\n",
    "   -> Some common challenges associated with memory management in Python:-\n",
    "      1-Memory Leaks:A memory leak occurs when memory that is no longer needed by the program is not released, causing the program to                             consume more memory over time.\n",
    "      2-Overhead of Garbage Collection: Python uses reference counting and garbage collection to manage memory. The garbage collector                                                periodically checks for objects that are no longer in use, freeing up memory. However, this process                                          itself adds overhead, which can impact performance.\n",
    "      3-Unnecessary Memory Usage:Python objects can sometimes take more memory than necessary, particularly when using data structures like                                   lists, dictionaries, and sets.\n",
    "      4-Managing Large Data Structures: Python’s memory management can struggle with large data structures, especially when dealing with                                             large datasets, like large lists, dictionaries, or NumPy arrays.\n",
    "      5- Global Interpreter Lock (GIL) and Memory Usage in Multithreading: The Global Interpreter Lock (GIL) in Python is a mechanism that                             ensures only one thread executes Python bytecode at a time in a single process. While this simplifies memory                                  management, it can lead to inefficient use of multi-core systems, particularly in CPU-bound tasks."
   ]
  },
  {
   "cell_type": "markdown",
   "id": "034ec482-6798-4faa-bb27-ad3bfd4cd527",
   "metadata": {},
   "source": [
    "24- How do you raise an exception manually in Python?\n",
    "   -> In Python, you can manually raise an exception using the raise statement. This allows you to trigger an exception in your program,            either as a custom error or by re-throwing an existing exception.\n",
    "        Syntax:\n",
    "        raise [ExceptionType(\"Error message\")]"
   ]
  },
  {
   "cell_type": "markdown",
   "id": "339afb11-c137-43c9-9f92-48fd433058bb",
   "metadata": {},
   "source": [
    "25-Why is it important to use multithreading in certain applications?\n",
    "   ->Multithreading is important in certain applications because it allows for the concurrent execution of multiple tasks or threads within       a single process, leading to several advantages in performance, resource utilization, and responsiveness.some key reasons why                multithreading is essential in specific applications:\n",
    "     1-Improved Responsiveness and User Experience\n",
    "     2-Parallelism and Faster Execution for I/O-bound Operations\n",
    "     3-Better CPU Utilization in Concurrent Tasks\n",
    "     4- Improved Throughput in Networked Applications"
   ]
  },
  {
   "cell_type": "markdown",
   "id": "5eeb3c17-1638-47a0-9f9e-a8ca51040593",
   "metadata": {},
   "source": [
    "Practical Questions:-"
   ]
  },
  {
   "cell_type": "code",
   "execution_count": 33,
   "id": "a478a6a5-063a-4af2-87cf-7bfc8469a01b",
   "metadata": {},
   "outputs": [],
   "source": [
    "#1. How can you open a file for writing in Python and write a string to it.\n",
    "with open('file.txt', 'w') as file:\n",
    "    file.write('Hello, world!')\n",
    "    file.write(\"Hi, I am xyz and I am learning Python\")"
   ]
  },
  {
   "cell_type": "code",
   "execution_count": 35,
   "id": "a1d0e6a8-5c92-4785-be0e-73249444bc55",
   "metadata": {},
   "outputs": [
    {
     "name": "stdout",
     "output_type": "stream",
     "text": [
      "Hello, world!Hi, I am xyz and I am learning Python"
     ]
    }
   ],
   "source": [
    "#2. Write a Python program to read the contents of a file and print each line.\n",
    "with open('file.txt', 'r') as file:\n",
    "    for line in file:\n",
    "        print(line, end='') "
   ]
  },
  {
   "cell_type": "code",
   "execution_count": 39,
   "id": "23a8c1bd-62f5-471d-81cd-59fccc7fbe9d",
   "metadata": {},
   "outputs": [
    {
     "name": "stdout",
     "output_type": "stream",
     "text": [
      "The file does not exist.\n"
     ]
    }
   ],
   "source": [
    "#3. How would you handle a case where the file doesn't exist while trying to open it for reading.\n",
    "try:\n",
    "    with open('files.txt', 'r') as file:\n",
    "        for line in file:\n",
    "            print(line, end='')  \n",
    "except FileNotFoundError:\n",
    "    print(\"The file does not exist.\")\n"
   ]
  },
  {
   "cell_type": "code",
   "execution_count": 47,
   "id": "b82888db-46fb-4c36-92f6-1518e4fb001e",
   "metadata": {},
   "outputs": [
    {
     "name": "stdout",
     "output_type": "stream",
     "text": [
      "File content successfully copied.\n"
     ]
    }
   ],
   "source": [
    "#4. Write a Python script that reads from one file and writes its content to another file.\n",
    "try:\n",
    "    with open('file.txt', 'r') as source_file, open('destination.txt', 'w') as destination_file:\n",
    "        content = source_file.read()\n",
    "        destination_file.write(content)\n",
    "    \n",
    "    print(\"File content successfully copied.\")\n",
    "except FileNotFoundError:\n",
    "    print(\"The source file does not exist.\")\n"
   ]
  },
  {
   "cell_type": "code",
   "execution_count": 49,
   "id": "e94af68a-4344-4233-b069-cd3dcdc269fb",
   "metadata": {},
   "outputs": [
    {
     "name": "stdout",
     "output_type": "stream",
     "text": [
      "Error: Cannot divide by zero.\n"
     ]
    }
   ],
   "source": [
    "#5. How would you catch and handle division by zero error in Python.\n",
    "try:\n",
    "    numerator = 10\n",
    "    denominator = 0\n",
    "    result = numerator / denominator\n",
    "    print(\"Result:\", result)\n",
    "except ZeroDivisionError:\n",
    "    print(\"Error: Cannot divide by zero.\")\n"
   ]
  },
  {
   "cell_type": "code",
   "execution_count": 53,
   "id": "0c9f4640-1445-4605-9802-6e3c0134ae4b",
   "metadata": {},
   "outputs": [
    {
     "name": "stdout",
     "output_type": "stream",
     "text": [
      "Error: Cannot divide by zero. Check the log file for details.\n"
     ]
    }
   ],
   "source": [
    "#6. Write a Python program that logs an error message to a log file when a division by zero exception occurs.\n",
    "import logging\n",
    "logging.basicConfig(filename='error_log.txt', level=logging.ERROR,\n",
    "                    format='%(asctime)s - %(levelname)s - %(message)s')\n",
    "\n",
    "try:\n",
    "    numerator = 10\n",
    "    denominator = 0\n",
    "    result = numerator / denominator\n",
    "    print(\"Result:\", result)\n",
    "except ZeroDivisionError as e:\n",
    "    logging.error(\"Division by zero error occurred: %s\", e)\n",
    "    print(\"Error: Cannot divide by zero. Check the log file for details.\")\n"
   ]
  },
  {
   "cell_type": "code",
   "execution_count": 59,
   "id": "f1752a2c-5d73-4d88-be74-16cadf33d26d",
   "metadata": {},
   "outputs": [],
   "source": [
    "#7. How do you log information at different levels (INFO, ERROR, WARNING) in Python using the logging module.\n",
    "import logging\n",
    "logging.basicConfig(filename='app_log.txt', level=logging.DEBUG, \n",
    "                    format='%(asctime)s - %(levelname)s - %(message)s')\n",
    "\n",
    "logging.debug(\"This is a debug message.\")    \n",
    "logging.info(\"This is an info message.\")    \n",
    "logging.warning(\"This is a warning message.\") \n",
    "logging.error(\"This is an error message.\")   \n",
    "logging.critical(\"This is a critical message.\") \n"
   ]
  },
  {
   "cell_type": "code",
   "execution_count": 63,
   "id": "4285e3fa-1d81-41ce-a13d-ace591707861",
   "metadata": {},
   "outputs": [
    {
     "name": "stdout",
     "output_type": "stream",
     "text": [
      "Error: The file was not found. Please check the file path.\n"
     ]
    }
   ],
   "source": [
    "#8. Write a program to handle a file opening error using exception handling.\n",
    "try:\n",
    "    with open('non_existent_file.txt', 'r') as file:\n",
    "        content = file.read()\n",
    "        print(content)\n",
    "\n",
    "except FileNotFoundError:\n",
    "    print(\"Error: The file was not found. Please check the file path.\")\n",
    "except PermissionError:\n",
    "    print(\"Error: You don't have permission to access the file.\")\n",
    "except Exception as e:\n",
    "    print(f\"An unexpected error occurred: {e}\")\n"
   ]
  },
  {
   "cell_type": "code",
   "execution_count": 67,
   "id": "aeafe09b-cf5f-47f3-ad6d-22b884022840",
   "metadata": {},
   "outputs": [
    {
     "name": "stdout",
     "output_type": "stream",
     "text": [
      "['Hello, world!Hi, I am xyz and I am learning Python']\n"
     ]
    }
   ],
   "source": [
    "#9.How can you read a file line by line and store its content in a list in Python.\n",
    "lines_list = []\n",
    "\n",
    "with open('file.txt', 'r') as file:\n",
    "    for line in file:\n",
    "        lines_list.append(line.strip())  \n",
    "\n",
    "print(lines_list)\n"
   ]
  },
  {
   "cell_type": "code",
   "execution_count": 1,
   "id": "b5c24a12-3150-4e47-a414-39d7d76e242d",
   "metadata": {},
   "outputs": [],
   "source": [
    "#10. How can you append data to an existing file in Python.\n",
    "with open('file.txt', 'a') as file:\n",
    "    file.write(\"This is the new data being appended.\\n\")"
   ]
  },
  {
   "cell_type": "code",
   "execution_count": 3,
   "id": "357b0d74-bf2e-4af8-a2f4-2b2a820876c6",
   "metadata": {},
   "outputs": [
    {
     "name": "stdout",
     "output_type": "stream",
     "text": [
      "Error: The key 'orange' does not exist in the dictionary.\n"
     ]
    }
   ],
   "source": [
    "#11.Write a Python program that uses a try-except block to handle an error when attempting to access a dictionary key that doesn't exist.\n",
    "my_dict = {\"apple\": 2, \"banana\": 5, \"cherry\": 10}\n",
    "try:\n",
    "    key = \"orange\"  \n",
    "    value = my_dict[key] \n",
    "    print(f\"The value for {key} is {value}\")\n",
    "except KeyError as e:\n",
    "    print(f\"Error: The key '{e.args[0]}' does not exist in the dictionary.\")\n"
   ]
  },
  {
   "cell_type": "code",
   "execution_count": 5,
   "id": "2e6b2e85-bf83-4d64-b50e-0dbcb8b7d335",
   "metadata": {},
   "outputs": [
    {
     "name": "stdin",
     "output_type": "stream",
     "text": [
      "Enter the first number:  10\n",
      "Enter the second number:  0\n"
     ]
    },
    {
     "name": "stdout",
     "output_type": "stream",
     "text": [
      "Error: You cannot divide by zero.\n"
     ]
    }
   ],
   "source": [
    "#12.Write a program that demonstrates using multiple except blocks to handle different types of exceptions.\n",
    "def divide_numbers():\n",
    "    try:\n",
    "        num1 = int(input(\"Enter the first number: \"))\n",
    "        num2 = int(input(\"Enter the second number: \"))\n",
    "        result = num1 / num2\n",
    "        print(f\"The result of division is: {result}\")\n",
    "\n",
    "    except ZeroDivisionError:\n",
    "        print(\"Error: You cannot divide by zero.\")\n",
    "    \n",
    "    except ValueError:\n",
    "        print(\"Error: Invalid input. Please enter numeric values.\")\n",
    "    \n",
    "    except Exception as e:\n",
    "        print(f\"An unexpected error occurred: {e}\")\n",
    "divide_numbers()\n"
   ]
  },
  {
   "cell_type": "code",
   "execution_count": 9,
   "id": "c9afb5e7-faeb-49fc-b469-b0a014cdc063",
   "metadata": {},
   "outputs": [
    {
     "name": "stdout",
     "output_type": "stream",
     "text": [
      "Hello, world!Hi, I am xyz and I am learning Python\n"
     ]
    }
   ],
   "source": [
    "#13. How would you check if a file exists before attempting to read it in Python.\n",
    "import os\n",
    "filename = \"destination.txt\"\n",
    "if os.path.exists(filename):\n",
    "    with open(filename, 'r') as file:\n",
    "        content = file.read()\n",
    "        print(content)\n",
    "else:\n",
    "    print(f\"The file {filename} does not exist.\")\n"
   ]
  },
  {
   "cell_type": "code",
   "execution_count": 13,
   "id": "48eefbb0-20bc-429a-8c97-98c24bb453ab",
   "metadata": {},
   "outputs": [
    {
     "name": "stderr",
     "output_type": "stream",
     "text": [
      "2025-01-06 17:49:36,967 - INFO - This is an informational message.\n",
      "2025-01-06 17:49:36,970 - ERROR - An error occurred: division by zero\n",
      "2025-01-06 17:49:36,972 - INFO - The program has completed its execution.\n"
     ]
    }
   ],
   "source": [
    "#14.Write a program that uses the logging module to log both informational and error messages.\n",
    "import logging\n",
    "\n",
    "logging.basicConfig(\n",
    "    level=logging.DEBUG,  \n",
    "    format='%(asctime)s - %(levelname)s - %(message)s',  \n",
    "    handlers=[\n",
    "        logging.FileHandler('app.log'), \n",
    "        logging.StreamHandler() \n",
    "    ]\n",
    ")\n",
    "logging.info(\"This is an informational message.\")\n",
    "try:\n",
    "    x = 10 / 0 \n",
    "except ZeroDivisionError as e:\n",
    "    logging.error(f\"An error occurred: {e}\")\n",
    "logging.info(\"The program has completed its execution.\")"
   ]
  },
  {
   "cell_type": "code",
   "execution_count": 17,
   "id": "82844524-0521-4ba6-8213-72266c19a693",
   "metadata": {},
   "outputs": [
    {
     "name": "stdout",
     "output_type": "stream",
     "text": [
      "File Content:\n",
      "Hello, world!Hi, I am xyz and I am learning PythonThis is the new data being appended.\n",
      "\n"
     ]
    }
   ],
   "source": [
    "#15.Write a Python program that prints the content of a file and handles the case when the file is empty.\n",
    "def print_file_content(filename):\n",
    "    try:\n",
    "        with open(filename, 'r') as file:\n",
    "            content = file.read()  \n",
    "            if not content:\n",
    "                print(\"The file is empty.\")\n",
    "            else:\n",
    "                print(\"File Content:\")\n",
    "                print(content) \n",
    "    except FileNotFoundError:\n",
    "        print(f\"Error: The file '{filename}' does not exist.\")\n",
    "    except Exception as e:\n",
    "        print(f\"An unexpected error occurred: {e}\")\n",
    "\n",
    "filename = \"file.txt\"\n",
    "print_file_content(filename)"
   ]
  },
  {
   "cell_type": "code",
   "execution_count": 31,
   "id": "1eb8c80e-bd96-4d5a-a5b6-75c47346633b",
   "metadata": {},
   "outputs": [
    {
     "name": "stdout",
     "output_type": "stream",
     "text": [
      "Collecting memory-profiler\n",
      "  Using cached memory_profiler-0.61.0-py3-none-any.whl.metadata (20 kB)\n",
      "Requirement already satisfied: psutil in c:\\users\\aadit\\anaconda3\\lib\\site-packages (from memory-profiler) (5.9.0)\n",
      "Using cached memory_profiler-0.61.0-py3-none-any.whl (31 kB)\n",
      "Installing collected packages: memory-profiler\n",
      "Successfully installed memory-profiler-0.61.0\n"
     ]
    }
   ],
   "source": [
    "!pip install memory-profiler\n"
   ]
  },
  {
   "cell_type": "code",
   "execution_count": 35,
   "id": "8cdff9ab-a3f8-4f68-8347-6cab2f877c73",
   "metadata": {},
   "outputs": [
    {
     "name": "stdout",
     "output_type": "stream",
     "text": [
      "ERROR: Could not find file C:\\Users\\aadit\\AppData\\Local\\Temp\\ipykernel_13324\\195784057.py\n",
      "Sum of list a: 49995000, Sum of list b: 99990000\n"
     ]
    }
   ],
   "source": [
    "#16.Demonstrate how to use memory profiling to check the memory usage of a small program.\n",
    "from memory_profiler import profile\n",
    "@profile\n",
    "def my_function():\n",
    "    a = [i for i in range(10000)]  \n",
    "    b = [i * 2 for i in range(10000)] \n",
    "    c = sum(a)  \n",
    "    d = sum(b)  \n",
    "    print(f\"Sum of list a: {c}, Sum of list b: {d}\")  \n",
    "    return c, d\n",
    "\n",
    "if __name__ == \"__main__\":\n",
    "    my_function()\n"
   ]
  },
  {
   "cell_type": "code",
   "execution_count": 37,
   "id": "727ba688-9d5f-410b-9ec6-8a6e436e27d5",
   "metadata": {},
   "outputs": [
    {
     "name": "stdout",
     "output_type": "stream",
     "text": [
      "Numbers have been written to 'numbers.txt'.\n"
     ]
    }
   ],
   "source": [
    "#17. Write a Python program to create and write a list of numbers to a file, one number per line.\n",
    "numbers = [1, 2, 3, 4, 5, 6, 7, 8, 9, 10]\n",
    "with open(\"numbers.txt\", \"w\") as file:\n",
    "    for number in numbers:\n",
    "        file.write(f\"{number}\\n\")\n",
    "\n",
    "print(\"Numbers have been written to 'numbers.txt'.\")\n"
   ]
  },
  {
   "cell_type": "code",
   "execution_count": 39,
   "id": "78cbc260-0964-4854-b7c8-2622c2b104f9",
   "metadata": {},
   "outputs": [
    {
     "name": "stderr",
     "output_type": "stream",
     "text": [
      "2025-01-06 21:15:56,546 - DEBUG - This is a debug message.\n",
      "2025-01-06 21:15:56,546 - INFO - This is an informational message.\n",
      "2025-01-06 21:15:56,550 - WARNING - This is a warning message.\n",
      "2025-01-06 21:15:56,552 - ERROR - This is an error message.\n",
      "2025-01-06 21:15:56,554 - CRITICAL - This is a critical message.\n"
     ]
    },
    {
     "name": "stdout",
     "output_type": "stream",
     "text": [
      "Logging setup complete, messages will be logged to 'app.log' with rotation.\n"
     ]
    }
   ],
   "source": [
    "#18. How would you implement a basic logging setup that logs to a file with rotation after 1MB?\n",
    "import logging\n",
    "from logging.handlers import RotatingFileHandler\n",
    "\n",
    "logger = logging.getLogger(\"my_logger\")\n",
    "logger.setLevel(logging.DEBUG)  \n",
    "handler = RotatingFileHandler(\"app.log\", maxBytes=1e6, backupCount=3)\n",
    "handler.setLevel(logging.DEBUG)\n",
    "formatter = logging.Formatter('%(asctime)s - %(levelname)s - %(message)s')\n",
    "handler.setFormatter(formatter)\n",
    "logger.addHandler(handler)\n",
    "logger.debug(\"This is a debug message.\")\n",
    "logger.info(\"This is an informational message.\")\n",
    "logger.warning(\"This is a warning message.\")\n",
    "logger.error(\"This is an error message.\")\n",
    "logger.critical(\"This is a critical message.\")\n",
    "\n",
    "print(\"Logging setup complete, messages will be logged to 'app.log' with rotation.\")\n"
   ]
  },
  {
   "cell_type": "code",
   "execution_count": 41,
   "id": "67caa335-a787-4827-bf98-6aeab7544c20",
   "metadata": {},
   "outputs": [
    {
     "name": "stdout",
     "output_type": "stream",
     "text": [
      "Accessing an index in the list:\n",
      "IndexError occurred: list index out of range\n"
     ]
    }
   ],
   "source": [
    "#19. Write a program that handles both IndexError and KeyError using a try-except block.\n",
    "def handle_errors():\n",
    "    my_list = [1, 2, 3]\n",
    "    my_dict = {'a': 1, 'b': 2}\n",
    "\n",
    "    try:\n",
    "        print(\"Accessing an index in the list:\")\n",
    "        print(my_list[5])  \n",
    "        print(\"\\nAccessing a key in the dictionary:\")\n",
    "        print(my_dict['c']) \n",
    "\n",
    "    except IndexError as e:\n",
    "        print(f\"IndexError occurred: {e}\")\n",
    "\n",
    "    except KeyError as e:\n",
    "        print(f\"KeyError occurred: {e}\")\n",
    "handle_errors()\n"
   ]
  },
  {
   "cell_type": "code",
   "execution_count": 45,
   "id": "2571901a-e77f-46c1-935c-a2c647baf1a3",
   "metadata": {},
   "outputs": [
    {
     "name": "stdout",
     "output_type": "stream",
     "text": [
      "1\n",
      "2\n",
      "3\n",
      "4\n",
      "5\n",
      "6\n",
      "7\n",
      "8\n",
      "9\n",
      "10\n",
      "\n"
     ]
    }
   ],
   "source": [
    "#20.How would you open a file and read its contents using a context manager in Python.\n",
    "filename = 'numbers.txt'\n",
    "\n",
    "with open(filename, 'r') as file:\n",
    "    content = file.read()  \n",
    "print(content)\n"
   ]
  },
  {
   "cell_type": "code",
   "execution_count": 47,
   "id": "ced662de-77fc-4e6b-9fcd-25c0dad9e2b0",
   "metadata": {},
   "outputs": [
    {
     "name": "stdout",
     "output_type": "stream",
     "text": [
      "The word 'am' appears 2 times in the file.\n"
     ]
    }
   ],
   "source": [
    "#21 Write a Python program that reads a file and prints the number of occurrences of a specific word.\n",
    "def count_word_occurrences(filename, word_to_count):\n",
    "    try:\n",
    "        with open(filename, 'r') as file:\n",
    "            content = file.read()  \n",
    "\n",
    "        word_count = content.lower().split().count(word_to_count.lower())\n",
    "\n",
    "        print(f\"The word '{word_to_count}' appears {word_count} times in the file.\")\n",
    "\n",
    "    except FileNotFoundError:\n",
    "        print(f\"Error: The file '{filename}' was not found.\")\n",
    "    except Exception as e:\n",
    "        print(f\"An error occurred: {e}\")\n",
    "        \n",
    "filename = 'file.txt'\n",
    "word_to_count = 'am'\n",
    "count_word_occurrences(filename, word_to_count)\n"
   ]
  },
  {
   "cell_type": "code",
   "execution_count": 53,
   "id": "bc591e9e-4d70-45be-ba63-3a3bdaf97c95",
   "metadata": {},
   "outputs": [
    {
     "name": "stdout",
     "output_type": "stream",
     "text": [
      "File contents:\n",
      "Hello, world!Hi, I am xyz and I am learning PythonThis is the new data being appended.\n",
      "\n"
     ]
    }
   ],
   "source": [
    "#22.How can you check if a file is empty before attempting to read its contents.\n",
    "def read_file_if_not_empty(filename):\n",
    "    with open(filename, 'r') as file:\n",
    "        content = file.read()\n",
    "        if not content:  \n",
    "            print(f\"The file '{filename}' is empty.\")\n",
    "        else:\n",
    "            print(f\"File contents:\\n{content}\")\n",
    "filename = 'file.txt'\n",
    "read_file_if_not_empty(filename)\n"
   ]
  },
  {
   "cell_type": "code",
   "execution_count": 55,
   "id": "d822a1df-0bea-4af4-98fc-9237dc1132af",
   "metadata": {},
   "outputs": [
    {
     "name": "stderr",
     "output_type": "stream",
     "text": [
      "2025-01-06 22:13:44,829 - ERROR - FileNotFoundError: [Errno 2] No such file or directory: 'example.txt' - The file 'example.txt' does not exist.\n"
     ]
    },
    {
     "name": "stdout",
     "output_type": "stream",
     "text": [
      "Error: The file 'example.txt' was not found.\n"
     ]
    }
   ],
   "source": [
    "#23.Write a Python program that writes to a log file when an error occurs during file handling.\n",
    "import logging\n",
    "logging.basicConfig(\n",
    "    filename='file_handling.log', \n",
    "    level=logging.ERROR,  \n",
    "    format='%(asctime)s - %(levelname)s - %(message)s'  \n",
    ")\n",
    "\n",
    "def handle_file(filename):\n",
    "    try:\n",
    "        with open(filename, 'r') as file:\n",
    "            content = file.read()\n",
    "            print(content)\n",
    "\n",
    "    except FileNotFoundError as e:\n",
    "        logging.error(f\"FileNotFoundError: {e} - The file '{filename}' does not exist.\")\n",
    "        print(f\"Error: The file '{filename}' was not found.\")\n",
    "    \n",
    "    except PermissionError as e:\n",
    "        logging.error(f\"PermissionError: {e} - Insufficient permissions to read the file '{filename}'.\")\n",
    "        print(f\"Error: You do not have permission to read the file '{filename}'.\")\n",
    "    \n",
    "    except Exception as e:\n",
    "        logging.error(f\"Unexpected error: {e}\")\n",
    "        print(\"An unexpected error occurred.\")\n",
    "filename = 'example.txt'\n",
    "handle_file(filename)\n"
   ]
  },
  {
   "cell_type": "code",
   "execution_count": null,
   "id": "b567b97d-0be9-4020-bbc0-e185090c7446",
   "metadata": {},
   "outputs": [],
   "source": []
  }
 ],
 "metadata": {
  "kernelspec": {
   "display_name": "Python 3 (ipykernel)",
   "language": "python",
   "name": "python3"
  },
  "language_info": {
   "codemirror_mode": {
    "name": "ipython",
    "version": 3
   },
   "file_extension": ".py",
   "mimetype": "text/x-python",
   "name": "python",
   "nbconvert_exporter": "python",
   "pygments_lexer": "ipython3",
   "version": "3.12.7"
  }
 },
 "nbformat": 4,
 "nbformat_minor": 5
}
